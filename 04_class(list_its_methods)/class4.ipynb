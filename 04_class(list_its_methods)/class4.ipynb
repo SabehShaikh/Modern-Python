{
 "cells": [
  {
   "cell_type": "code",
   "execution_count": 1,
   "metadata": {},
   "outputs": [],
   "source": [
    "name1 : str = 'Sabeh'\n",
    "name2: str = 'Sir Qasim'\n",
    "name3: str = 'Sir Zia'"
   ]
  },
  {
   "cell_type": "markdown",
   "metadata": {},
   "source": [
    "# List\n",
    "* dynamic length\n",
    "* hetrogenous data types (multiple type)\n",
    "* index\n",
    "    * positive 0 to n-1\n",
    "    * negative -1 to length\n",
    "* slicing\n",
    "    * variable `names[start:end:step]`\n",
    "    * start : int = include \n",
    "    * end   : int = n-1\n",
    "    * step  : int = sequance  "
   ]
  },
  {
   "cell_type": "code",
   "execution_count": 8,
   "metadata": {},
   "outputs": [
    {
     "name": "stdout",
     "output_type": "stream",
     "text": [
      "Sabeh\n",
      "Sabeh\n",
      "Qasim\n"
     ]
    }
   ],
   "source": [
    "# -->       0         1         2\n",
    "names = ['Sabeh' , 'Qasim' , 'Zia']\n",
    "# <--      -3        -2       -1 \n",
    "\n",
    "print(names[0]) #Sabeh\n",
    "print(names[-3]) #Sabeh\n",
    "\n",
    "print(names[-2])"
   ]
  },
  {
   "cell_type": "code",
   "execution_count": 13,
   "metadata": {},
   "outputs": [
    {
     "name": "stdout",
     "output_type": "stream",
     "text": [
      "Founder of PIAIC: SIR ZIA\n",
      "<class 'list'>\n",
      "<class 'str'>\n"
     ]
    }
   ],
   "source": [
    "from typing import Any\n",
    "# -->                  0        1              2\n",
    "names: list[Any] = ['Sabeh', 'Sir Zia' , 'Sir Qasim']\n",
    "# <--                 -3       -2             -1 \n",
    "print(f'Founder of PIAIC: {names[-2].upper()}')\n",
    "print(type(names)) \n",
    "print(type(names[2])) #string"
   ]
  },
  {
   "cell_type": "code",
   "execution_count": 15,
   "metadata": {},
   "outputs": [
    {
     "data": {
      "text/plain": [
       "3"
      ]
     },
     "metadata": {},
     "output_type": "display_data"
    }
   ],
   "source": [
    "digits : list[int] = [0,1,2,3,4,5]\n",
    "display(digits[3])\n"
   ]
  },
  {
   "cell_type": "markdown",
   "metadata": {},
   "source": [
    "* slicing"
   ]
  },
  {
   "cell_type": "code",
   "execution_count": 17,
   "metadata": {},
   "outputs": [
    {
     "data": {
      "text/plain": [
       "'abcdef'"
      ]
     },
     "execution_count": 17,
     "metadata": {},
     "output_type": "execute_result"
    }
   ],
   "source": [
    "'abcdef'"
   ]
  },
  {
   "cell_type": "code",
   "execution_count": 18,
   "metadata": {},
   "outputs": [
    {
     "data": {
      "text/plain": [
       "['a', 'b', 'c', 'd', 'e', 'f']"
      ]
     },
     "execution_count": 18,
     "metadata": {},
     "output_type": "execute_result"
    }
   ],
   "source": [
    "list('abcdef')"
   ]
  },
  {
   "cell_type": "code",
   "execution_count": 16,
   "metadata": {},
   "outputs": [
    {
     "name": "stdout",
     "output_type": "stream",
     "text": [
      "['A', 'B', 'C', 'D', 'E', 'F', 'G', 'H', 'I', 'J', 'K', 'L', 'M', 'N', 'O', 'P', 'Q', 'R', 'S', 'T', 'U', 'V', 'W', 'X', 'Y', 'Z']\n"
     ]
    }
   ],
   "source": [
    "characters: list[str] = list(\"ABCDEFGHIJKLMNOPQRSTUVWXYZ\")\n",
    "print(characters)"
   ]
  },
  {
   "cell_type": "code",
   "execution_count": 29,
   "metadata": {},
   "outputs": [
    {
     "name": "stdout",
     "output_type": "stream",
     "text": [
      "['A', 'B']\n",
      "['A', 'B']\n",
      "['A', 'B']\n",
      "['A', 'C', 'E', 'G']\n",
      "['A', 'B', 'C', 'D', 'E', 'F', 'G']\n"
     ]
    }
   ],
   "source": [
    "characters: list[str] = [\n",
    "    'A', 'B', 'C', 'D', 'E',  # Elements at index 0 to 4\n",
    "    'F', 'G', 'H', 'I', 'J',  # Elements at index 5 to 9\n",
    "    'K', 'L', 'M', 'N', 'O',  # Elements at index 10 to 14\n",
    "    'P', 'Q', 'R', 'S', 'T',  # Elements at index 15 to 19\n",
    "    'U', 'V', 'W', 'X', 'Y',  # Elements at index 20 to 24\n",
    "    'Z'                       # Element at index 25\n",
    "]\n",
    "# default slicing go from left to right\n",
    "print(characters[0:2]) #0= include : 2-1 = 1\n",
    "print(characters[:2]) # not pass any number = all\n",
    "print(characters[-26: -24]) #0= include : -24-1 = -25\n",
    "\n",
    "print(characters[0:7:2]) #0= include : 7-1 = 6 , step: 2\n",
    "print(characters[0:7:])"
   ]
  },
  {
   "cell_type": "code",
   "execution_count": 30,
   "metadata": {},
   "outputs": [
    {
     "name": "stdout",
     "output_type": "stream",
     "text": [
      "['A', 'B', 'C', 'D', 'E', 'F', 'G', 'H', 'I', 'J', 'K', 'L', 'M', 'N', 'O', 'P', 'Q', 'R', 'S', 'T', 'U', 'V', 'W', 'X', 'Y', 'Z']\n"
     ]
    }
   ],
   "source": [
    "characters: list[str] = [\n",
    "    'A', 'B', 'C', 'D', 'E',  \n",
    "    'F', 'G', 'H', 'I', 'J', \n",
    "    'K', 'L', 'M', 'N', 'O', \n",
    "    'P', 'Q', 'R', 'S', 'T',  \n",
    "    'U', 'V', 'W', 'X', 'Y', \n",
    "    'Z'                     \n",
    "]\n",
    "\n",
    "print(characters[: :])"
   ]
  },
  {
   "cell_type": "code",
   "execution_count": 33,
   "metadata": {},
   "outputs": [
    {
     "name": "stdout",
     "output_type": "stream",
     "text": [
      "['A', 'C', 'E', 'G', 'I', 'K', 'M', 'O', 'Q', 'S', 'U', 'W', 'Y']\n"
     ]
    }
   ],
   "source": [
    "characters: list[str] = [\n",
    "    'A', 'B', 'C', 'D', 'E',  \n",
    "    'F', 'G', 'H', 'I', 'J', \n",
    "    'K', 'L', 'M', 'N', 'O', \n",
    "    'P', 'Q', 'R', 'S', 'T',  \n",
    "    'U', 'V', 'W', 'X', 'Y', \n",
    "    'Z'                     \n",
    "]\n",
    "\n",
    "print(characters[::2])"
   ]
  },
  {
   "cell_type": "code",
   "execution_count": 36,
   "metadata": {},
   "outputs": [
    {
     "name": "stdout",
     "output_type": "stream",
     "text": [
      "['B', 'C', 'D', 'E']\n"
     ]
    }
   ],
   "source": [
    "#                         0    1    2    3    4    5    6    7\n",
    "characters: list[str] = ['A', 'B', 'C', 'D', 'E', 'F', 'G', 'H']\n",
    "#                        -8   -7   -6   -5   -4   -3   -2   -1\n",
    "\n",
    "print(characters[1:-3]) "
   ]
  },
  {
   "cell_type": "code",
   "execution_count": 35,
   "metadata": {},
   "outputs": [
    {
     "name": "stdout",
     "output_type": "stream",
     "text": [
      "['Z', 'X', 'V', 'T', 'R', 'P', 'N', 'L', 'J', 'H', 'F', 'D', 'B']\n"
     ]
    }
   ],
   "source": [
    "characters: list[str] = [\n",
    "    'A', 'B', 'C', 'D', 'E',  \n",
    "    'F', 'G', 'H', 'I', 'J', \n",
    "    'K', 'L', 'M', 'N', 'O', \n",
    "    'P', 'Q', 'R', 'S', 'T',  \n",
    "    'U', 'V', 'W', 'X', 'Y', \n",
    "    'Z'                     \n",
    "]\n",
    "\n",
    "print(characters[::-1]) # <- "
   ]
  }
 ],
 "metadata": {
  "kernelspec": {
   "display_name": "python12",
   "language": "python",
   "name": "python3"
  },
  "language_info": {
   "codemirror_mode": {
    "name": "ipython",
    "version": 3
   },
   "file_extension": ".py",
   "mimetype": "text/x-python",
   "name": "python",
   "nbconvert_exporter": "python",
   "pygments_lexer": "ipython3",
   "version": "3.12.0"
  }
 },
 "nbformat": 4,
 "nbformat_minor": 2
}
