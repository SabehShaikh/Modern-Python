{
 "cells": [
  {
   "cell_type": "code",
   "execution_count": 1,
   "metadata": {},
   "outputs": [
    {
     "name": "stdout",
     "output_type": "stream",
     "text": [
      "name\n"
     ]
    }
   ],
   "source": [
    "print(\"name\")\n"
   ]
  },
  {
   "cell_type": "markdown",
   "metadata": {},
   "source": [
    "# String Data type in Python"
   ]
  },
  {
   "cell_type": "code",
   "execution_count": 4,
   "metadata": {},
   "outputs": [
    {
     "name": "stdout",
     "output_type": "stream",
     "text": [
      "<class 'str'>\n",
      "Sabeh Shaikh\n"
     ]
    }
   ],
   "source": [
    "# boundries\n",
    "# 'string text' , \"string text\" , '''string text''' , \"\"\"string\"\"\" \n",
    "# `string text` typescript\n",
    "name : str = 'Sabeh Shaikh'\n",
    "print(type(name))\n",
    "print(name)\n"
   ]
  },
  {
   "cell_type": "code",
   "execution_count": 6,
   "metadata": {},
   "outputs": [
    {
     "name": "stdout",
     "output_type": "stream",
     "text": [
      "PIAIC Student Card \n",
      " father's Name\n"
     ]
    }
   ],
   "source": [
    "message : str = \"PIAIC Student Card \\n father's Name\"\n",
    "print(message)"
   ]
  },
  {
   "cell_type": "code",
   "execution_count": 7,
   "metadata": {},
   "outputs": [
    {
     "name": "stdout",
     "output_type": "stream",
     "text": [
      "PIAIC \"Student Card\" \n",
      " fathers Name\n"
     ]
    }
   ],
   "source": [
    "message : str = 'PIAIC \"Student Card\" \\n fathers Name'\n",
    "print(message)"
   ]
  },
  {
   "cell_type": "code",
   "execution_count": 8,
   "metadata": {},
   "outputs": [
    {
     "name": "stdout",
     "output_type": "stream",
     "text": [
      "PIAIC \"Student Card\" \n",
      " father's Name\n"
     ]
    }
   ],
   "source": [
    "# convert any special character into simple character, place \\ before character\n",
    "message : str = 'PIAIC \"Student Card\" \\n father\\'s Name'\n",
    "print(message)"
   ]
  },
  {
   "cell_type": "code",
   "execution_count": 5,
   "metadata": {},
   "outputs": [
    {
     "name": "stdout",
     "output_type": "stream",
     "text": [
      "<class 'str'>\n",
      "Sabeh\n"
     ]
    }
   ],
   "source": [
    "# boundries\n",
    "# 'string text' , \"string text\" , '''string text''' , \"\"\"string\"\"\" \n",
    "# `string text` typescript\n",
    "name : str = \"Sabeh\"\n",
    "print(type(name))\n",
    "print(name)"
   ]
  },
  {
   "cell_type": "code",
   "execution_count": 10,
   "metadata": {},
   "outputs": [
    {
     "data": {
      "text/plain": [
       "'AB'"
      ]
     },
     "execution_count": 10,
     "metadata": {},
     "output_type": "execute_result"
    }
   ],
   "source": [
    "#concatenation\n",
    "\"A\" + \"B\"\n"
   ]
  },
  {
   "cell_type": "code",
   "execution_count": 20,
   "metadata": {},
   "outputs": [
    {
     "data": {
      "text/plain": [
       "'A7'"
      ]
     },
     "execution_count": 20,
     "metadata": {},
     "output_type": "execute_result"
    }
   ],
   "source": [
    "#cannot concatenate with a number\n",
    "\"A\" + str(7)"
   ]
  },
  {
   "cell_type": "code",
   "execution_count": 30,
   "metadata": {},
   "outputs": [
    {
     "name": "stdout",
     "output_type": "stream",
     "text": [
      "PIAIC Student Card\n",
      "Student Name: Sabeh Shaikh\n",
      "Age: 30\n",
      "Education: Bachelors in Computer Science\n"
     ]
    }
   ],
   "source": [
    "# boundries\n",
    "# 'string text' , \"string text\" , '''string text''' , \"\"\"string\"\"\" \n",
    "# `string text` typescript\n",
    "name : str = 'Sabeh Shaikh'\n",
    "fname: str = \"Arshad Shaikh\"\n",
    "education: str = \"Bachelors in Computer Science\"\n",
    "age : int = 30\n",
    "\n",
    "card : str = \"PIAIC Student Card\\nStudent Name: \" + name +\\\n",
    "\"\\nAge: \" + str(age) + \"\\n\" + \\\n",
    "\"Education: \" + education \n",
    "\n",
    "print(card)"
   ]
  },
  {
   "cell_type": "markdown",
   "metadata": {},
   "source": [
    "# Define multi-line string \"\"\" \"\"\" , ''' '''"
   ]
  },
  {
   "cell_type": "code",
   "execution_count": 32,
   "metadata": {},
   "outputs": [
    {
     "name": "stdout",
     "output_type": "stream",
     "text": [
      "\n",
      "PIAIC Student Card\n",
      "Student Name: ....\n",
      "Father's Name: ...\n",
      "Age: ....\n",
      "Education: ...\n",
      "\n"
     ]
    }
   ],
   "source": [
    "name : str = 'Sabeh Shaikh'\n",
    "fname: str = \"Arshad Shaikh\"\n",
    "education: str = \"Bachelors in Computer Science\"\n",
    "age : int = 30\n",
    "\n",
    "card : str = \"\"\"\n",
    "PIAIC Student Card\n",
    "Student Name: \n",
    "Father's Name: \n",
    "Age: \n",
    "Education: \n",
    "\"\"\"\n",
    "\n",
    "print(card)"
   ]
  },
  {
   "cell_type": "markdown",
   "metadata": {},
   "source": [
    "# F-string python"
   ]
  },
  {
   "cell_type": "code",
   "execution_count": 33,
   "metadata": {},
   "outputs": [
    {
     "name": "stdout",
     "output_type": "stream",
     "text": [
      "\n",
      "PIAIC Student Card\n",
      "Student Name: Sabeh Shaikh\n",
      "Father's Name: Arshad Shaikh\n",
      "Age: 30\n",
      "Education: Bachelors in Computer Science \n",
      "\n"
     ]
    }
   ],
   "source": [
    "name : str = 'Sabeh Shaikh'\n",
    "fname: str = \"Arshad Shaikh\"\n",
    "education: str = \"Bachelors in Computer Science\"\n",
    "age : int = 30\n",
    "\n",
    "card : str = f\"\"\"\n",
    "PIAIC Student Card\n",
    "Student Name: {name}\n",
    "Father's Name: {fname}\n",
    "Age: {age}\n",
    "Education: {education} \n",
    "\"\"\"\n",
    "\n",
    "print(card)"
   ]
  },
  {
   "cell_type": "code",
   "execution_count": 34,
   "metadata": {},
   "outputs": [
    {
     "name": "stdout",
     "output_type": "stream",
     "text": [
      "\n",
      "PIAIC Student Card\n",
      "Student Name: Sabeh Shaikh\n",
      "Father's Name: Arshad Shaikh\n",
      "Age: 30\n",
      "Education: Bachelors in Computer Science \n",
      "\n"
     ]
    }
   ],
   "source": [
    "name : str = 'Sabeh Shaikh'\n",
    "fname: str = \"Arshad Shaikh\"\n",
    "education: str = \"Bachelors in Computer Science\"\n",
    "age : int = 30\n",
    "\n",
    "card : str = f'''\n",
    "PIAIC Student Card\n",
    "Student Name: {name}\n",
    "Father's Name: {fname}\n",
    "Age: {age}\n",
    "Education: {education} \n",
    "'''\n",
    "\n",
    "print(card)"
   ]
  },
  {
   "cell_type": "code",
   "execution_count": 35,
   "metadata": {},
   "outputs": [
    {
     "name": "stdout",
     "output_type": "stream",
     "text": [
      "\n",
      "PIAIC Student Card\n",
      "Student Name: Sabeh Shaikh\n",
      "Father's Name: Arshad Shaikh\n",
      "Age: 30\n",
      "Education: Bachelors in Computer Science \n",
      "\n",
      "Total 19\n",
      "\n"
     ]
    }
   ],
   "source": [
    "name : str = 'Sabeh Shaikh'\n",
    "fname: str = \"Arshad Shaikh\"\n",
    "education: str = \"Bachelors in Computer Science\"\n",
    "age : int = 30\n",
    "\n",
    "card : str = f\"\"\"\n",
    "PIAIC Student Card\n",
    "Student Name: {name}\n",
    "Father's Name: {fname}\n",
    "Age: {age}\n",
    "Education: {education} \n",
    "\n",
    "Total {2 + 8 + 9}\n",
    "\"\"\"\n",
    "\n",
    "print(card)"
   ]
  },
  {
   "cell_type": "code",
   "execution_count": null,
   "metadata": {},
   "outputs": [],
   "source": [
    "name : str = 'Sabeh Shaikh'\n",
    "fname: str = \"Arshad Shaikh\"\n",
    "education: str = \"Bachelors in Computer Science\"\n",
    "age : int = 30\n",
    "\n",
    "# backticks do not work here\n",
    "card : str = f`\n",
    "PIAIC Student Card\n",
    "Student Name: {name}\n",
    "Father's Name: {fname}\n",
    "Age: {age}\n",
    "Education: {education} \n",
    "` \n",
    "\n",
    "print(card)"
   ]
  },
  {
   "cell_type": "markdown",
   "metadata": {},
   "source": [
    "# Line Continue"
   ]
  },
  {
   "cell_type": "code",
   "execution_count": 27,
   "metadata": {},
   "outputs": [
    {
     "name": "stdout",
     "output_type": "stream",
     "text": [
      "17\n"
     ]
    }
   ],
   "source": [
    "print(7 + \\\n",
    "      8 + \\\n",
    "      + 2)"
   ]
  },
  {
   "cell_type": "markdown",
   "metadata": {},
   "source": [
    "# F-string and Jinja style"
   ]
  },
  {
   "cell_type": "code",
   "execution_count": 36,
   "metadata": {},
   "outputs": [
    {
     "data": {
      "text/plain": [
       "'\\nStudent name Sabeh Shaikh\\n\\n'"
      ]
     },
     "execution_count": 36,
     "metadata": {},
     "output_type": "execute_result"
    }
   ],
   "source": [
    "f\"\"\"\n",
    "Student name {name}\n",
    "\n",
    "\"\"\""
   ]
  },
  {
   "cell_type": "code",
   "execution_count": 38,
   "metadata": {},
   "outputs": [
    {
     "data": {
      "text/plain": [
       "'\\nStudent name {{name}}\\n'"
      ]
     },
     "execution_count": 38,
     "metadata": {},
     "output_type": "execute_result"
    }
   ],
   "source": [
    "# Jinja style\n",
    "\"\"\"\n",
    "Student name {{name}}\n",
    "\"\"\""
   ]
  },
  {
   "cell_type": "code",
   "execution_count": 44,
   "metadata": {},
   "outputs": [
    {
     "data": {
      "text/plain": [
       "['capitalize',\n",
       " 'casefold',\n",
       " 'center',\n",
       " 'count',\n",
       " 'encode',\n",
       " 'endswith',\n",
       " 'expandtabs',\n",
       " 'find',\n",
       " 'format',\n",
       " 'index',\n",
       " 'isalnum',\n",
       " 'isalpha',\n",
       " 'isascii',\n",
       " 'isdecimal',\n",
       " 'isdigit',\n",
       " 'isidentifier',\n",
       " 'islower',\n",
       " 'isnumeric',\n",
       " 'isprintable',\n",
       " 'isspace',\n",
       " 'istitle',\n",
       " 'isupper',\n",
       " 'join',\n",
       " 'ljust',\n",
       " 'lower',\n",
       " 'lstrip',\n",
       " 'maketrans',\n",
       " 'partition',\n",
       " 'removeprefix',\n",
       " 'removesuffix',\n",
       " 'replace',\n",
       " 'rfind',\n",
       " 'rindex',\n",
       " 'rjust',\n",
       " 'rpartition',\n",
       " 'rsplit',\n",
       " 'rstrip',\n",
       " 'split',\n",
       " 'splitlines',\n",
       " 'startswith',\n",
       " 'strip',\n",
       " 'swapcase',\n",
       " 'title',\n",
       " 'translate',\n",
       " 'upper',\n",
       " 'zfill']"
      ]
     },
     "execution_count": 44,
     "metadata": {},
     "output_type": "execute_result"
    }
   ],
   "source": [
    "[i for i in dir(str) if \"_\" not in i]"
   ]
  },
  {
   "cell_type": "code",
   "execution_count": 49,
   "metadata": {},
   "outputs": [
    {
     "data": {
      "text/plain": [
       "'pakistan value a = 7 and value b = 8'"
      ]
     },
     "execution_count": 49,
     "metadata": {},
     "output_type": "execute_result"
    }
   ],
   "source": [
    "a = 7\n",
    "b = 8\n",
    "# {} place holder\n",
    "#                   0                1          0 1\n",
    "\"pakistan value a = {} and value b = {}\".format(a,b) "
   ]
  },
  {
   "cell_type": "code",
   "execution_count": 47,
   "metadata": {},
   "outputs": [
    {
     "name": "stdout",
     "output_type": "stream",
     "text": [
      "Sabeh shaikh\n",
      "sabeh shaikh\n"
     ]
    }
   ],
   "source": [
    "name : str = \"SaBeH ShaIKh\"\n",
    "print(name.capitalize())\n",
    "print(name.lower())"
   ]
  },
  {
   "cell_type": "code",
   "execution_count": 41,
   "metadata": {},
   "outputs": [
    {
     "name": "stdout",
     "output_type": "stream",
     "text": [
      "\n",
      "PIAIC Student Card\n",
      "Student Name: Sabeh Shaikh\n",
      "Father's Name: Arshad Shaikh\n",
      "Age: 30\n",
      "Education: Bachelors in Computer Science\n",
      "\n",
      "\n"
     ]
    }
   ],
   "source": [
    "name : str = 'Sabeh Shaikh'\n",
    "fname: str = \"Arshad Shaikh\"\n",
    "education: str = \"Bachelors in Computer Science\"\n",
    "age : int = 30\n",
    "\n",
    "card : str = \"\"\"\n",
    "PIAIC Student Card\n",
    "Student Name: %s\n",
    "Father's Name: %s\n",
    "Age: %d\n",
    "Education: %s\n",
    "\n",
    "\"\"\" % (name , fname , age , education)\n",
    "print(card)"
   ]
  },
  {
   "cell_type": "code",
   "execution_count": 2,
   "metadata": {},
   "outputs": [
    {
     "name": "stdout",
     "output_type": "stream",
     "text": [
      "\n",
      "PIAIC Student Card\n",
      "Student Name: Sabeh Shaikh\n",
      "Father's Name: Arshad Shaikh\n",
      "Age: 30\n",
      "Education: Bachelors in Computer Science \n",
      "\n",
      "           \n",
      "\n"
     ]
    }
   ],
   "source": [
    "name : str = 'Sabeh Shaikh'\n",
    "fname: str = \"Arshad Shaikh\"\n",
    "education: str = \"Bachelors in Computer Science\"\n",
    "age : int = 30\n",
    "\n",
    "card : str = \"\"\"\n",
    "PIAIC Student Card\n",
    "Student Name: {1}\n",
    "Father's Name: {0}\n",
    "Age: {3}\n",
    "Education: {2} \n",
    "\n",
    "           \n",
    "\"\"\".format(fname, name, education, age)\n",
    "#          0       1      2         3\n",
    "\n",
    "print(card)"
   ]
  },
  {
   "cell_type": "code",
   "execution_count": 5,
   "metadata": {},
   "outputs": [
    {
     "name": "stdout",
     "output_type": "stream",
     "text": [
      "\n",
      "PIAIC Student Card\n",
      "Student Name: Sabeh Shaikh\n",
      "Father's Name: Arshad Shaikh\n",
      "Age: 30\n",
      "Education: Bachelors in Computer Science \n",
      "\n",
      "           \n",
      "\n"
     ]
    }
   ],
   "source": [
    "name : str = 'Sabeh Shaikh'\n",
    "fname: str = \"Arshad Shaikh\"\n",
    "education: str = \"Bachelors in Computer Science\"\n",
    "age : int = 30\n",
    "\n",
    "card : str = \"\"\"\n",
    "PIAIC Student Card\n",
    "Student Name: {a}\n",
    "Father's Name: {b}\n",
    "Age: {c}\n",
    "Education: {d} \n",
    "\n",
    "           \n",
    "\"\"\".format(a = name , b = fname , c = age, d = education)\n",
    "#          0       1      2         3\n",
    "\n",
    "print(card)"
   ]
  },
  {
   "cell_type": "markdown",
   "metadata": {},
   "source": [
    "# Recommended below two f-string"
   ]
  },
  {
   "cell_type": "code",
   "execution_count": null,
   "metadata": {},
   "outputs": [],
   "source": [
    "name : str = 'Sabeh Shaikh'\n",
    "fname: str = \"Arshad Shaikh\"\n",
    "education: str = \"Bachelors in Computer Science\"\n",
    "age : int = 30\n",
    "\n",
    "card : str = f\"\"\"\n",
    "PIAIC Student Card\n",
    "Student Name: {name}\n",
    "Father's Name: {fname}\n",
    "Age: {age}\n",
    "Education: {education} \n",
    "\n",
    "\"\"\"\n",
    "\n",
    "print(card)"
   ]
  },
  {
   "cell_type": "code",
   "execution_count": 6,
   "metadata": {},
   "outputs": [
    {
     "name": "stdout",
     "output_type": "stream",
     "text": [
      "My name is Sabeh\n",
      "15\n"
     ]
    }
   ],
   "source": [
    "student_code: str = \"\"\"\n",
    "print(\"My name is Sabeh\")\n",
    "a : int = 7\n",
    "b : int = 8\n",
    "print(a + b)\n",
    "\"\"\"\n",
    "\n",
    "exec(student_code)\n"
   ]
  },
  {
   "cell_type": "markdown",
   "metadata": {},
   "source": [
    "# Explore STRING Methods and Attributes\n",
    "\n",
    "pre-defined global functions, we have used.\n",
    "* print\n",
    "* type\n",
    "* id\n",
    "* dir\n",
    "* len"
   ]
  },
  {
   "cell_type": "code",
   "execution_count": 7,
   "metadata": {},
   "outputs": [
    {
     "name": "stdout",
     "output_type": "stream",
     "text": [
      "['capitalize', 'casefold', 'center', 'count', 'encode', 'endswith', 'expandtabs', 'find', 'format', 'format_map', 'index', 'isalnum', 'isalpha', 'isascii', 'isdecimal', 'isdigit', 'isidentifier', 'islower', 'isnumeric', 'isprintable', 'isspace', 'istitle', 'isupper', 'join', 'ljust', 'lower', 'lstrip', 'maketrans', 'partition', 'removeprefix', 'removesuffix', 'replace', 'rfind', 'rindex', 'rjust', 'rpartition', 'rsplit', 'rstrip', 'split', 'splitlines', 'startswith', 'strip', 'swapcase', 'title', 'translate', 'upper', 'zfill']\n",
      "47\n"
     ]
    }
   ],
   "source": [
    "a: list[str] = [i for i in dir(str) if \"__\" not in i]\n",
    "print(a)\n",
    "print(len(a))"
   ]
  },
  {
   "cell_type": "code",
   "execution_count": 8,
   "metadata": {},
   "outputs": [
    {
     "name": "stdout",
     "output_type": "stream",
     "text": [
      "Sabeh shaikh\n"
     ]
    }
   ],
   "source": [
    "name : str = 'SaBeh ShAiKh'\n",
    "\n",
    "# variable_name.method()\n",
    "print(name.capitalize())"
   ]
  },
  {
   "cell_type": "code",
   "execution_count": 12,
   "metadata": {},
   "outputs": [
    {
     "name": "stdout",
     "output_type": "stream",
     "text": [
      "SaBeh ShAiKh\n",
      "sabeh shaikh\n"
     ]
    }
   ],
   "source": [
    "name : str = 'SaBeh ShAiKh'\n",
    "\n",
    "# variable_name.method()\n",
    "print(name)\n",
    "print(name.casefold())"
   ]
  },
  {
   "cell_type": "code",
   "execution_count": 13,
   "metadata": {},
   "outputs": [
    {
     "name": "stdout",
     "output_type": "stream",
     "text": [
      "SaBeh ShAiKh\n",
      "sabeh shaikh\n"
     ]
    }
   ],
   "source": [
    "name : str = 'SaBeh ShAiKh'\n",
    "\n",
    "# variable_name.method()\n",
    "print(name)\n",
    "print(name.lower())"
   ]
  },
  {
   "cell_type": "code",
   "execution_count": 16,
   "metadata": {},
   "outputs": [
    {
     "data": {
      "text/plain": [
       "'          SaBeh ShAiKh               '"
      ]
     },
     "metadata": {},
     "output_type": "display_data"
    },
    {
     "name": "stdout",
     "output_type": "stream",
     "text": [
      "SaBeh ShAiKh               \n"
     ]
    }
   ],
   "source": [
    "name : str = '          SaBeh ShAiKh               '\n",
    "\n",
    "# variable_name.method()\n",
    "display(name)\n",
    "print(name.lstrip())\n"
   ]
  },
  {
   "cell_type": "code",
   "execution_count": 17,
   "metadata": {},
   "outputs": [
    {
     "data": {
      "text/plain": [
       "'          SaBeh ShAiKh               '"
      ]
     },
     "metadata": {},
     "output_type": "display_data"
    },
    {
     "name": "stdout",
     "output_type": "stream",
     "text": [
      "          SaBeh ShAiKh\n"
     ]
    }
   ],
   "source": [
    "name : str = '          SaBeh ShAiKh               '\n",
    "\n",
    "# variable_name.method()\n",
    "display(name)\n",
    "print(name.rstrip())\n"
   ]
  },
  {
   "cell_type": "code",
   "execution_count": 26,
   "metadata": {},
   "outputs": [
    {
     "data": {
      "text/plain": [
       "'          SaBeh     ShAiKh               '"
      ]
     },
     "metadata": {},
     "output_type": "display_data"
    },
    {
     "data": {
      "text/plain": [
       "'SaBeh     ShAiKh'"
      ]
     },
     "metadata": {},
     "output_type": "display_data"
    }
   ],
   "source": [
    "name : str = '          SaBeh     ShAiKh               '\n",
    "\n",
    "# variable_name.method()\n",
    "display(name)\n",
    "display(name.strip())\n"
   ]
  },
  {
   "cell_type": "code",
   "execution_count": 25,
   "metadata": {},
   "outputs": [
    {
     "data": {
      "text/plain": [
       "'      Sabeh           Sabeh          '"
      ]
     },
     "metadata": {},
     "output_type": "display_data"
    },
    {
     "data": {
      "text/plain": [
       "'Sabeh Sabeh'"
      ]
     },
     "metadata": {},
     "output_type": "display_data"
    }
   ],
   "source": [
    "\n",
    "import re\n",
    "name : str = \"      Sabeh           Shaikh          \"\n",
    "display(name)\n",
    "name1 : str = re.sub(' {2,100}',' ', name).strip()\n",
    "display(name1)"
   ]
  },
  {
   "cell_type": "code",
   "execution_count": 30,
   "metadata": {},
   "outputs": [
    {
     "data": {
      "text/plain": [
       "'sABeh sHaikh'"
      ]
     },
     "metadata": {},
     "output_type": "display_data"
    },
    {
     "data": {
      "text/plain": [
       "'Sabeh Shaikh'"
      ]
     },
     "metadata": {},
     "output_type": "display_data"
    }
   ],
   "source": [
    "name : str = \"sABeh sHaikh\"\n",
    "# variable_name.method()\n",
    "display(name)\n",
    "display(name.title()) # har word ka pehla capital"
   ]
  },
  {
   "cell_type": "code",
   "execution_count": 31,
   "metadata": {},
   "outputs": [
    {
     "name": "stdout",
     "output_type": "stream",
     "text": [
      "ADA LOVELACE\n",
      "ada lovelace\n"
     ]
    }
   ],
   "source": [
    "\n",
    "name:str = \"Ada Lovelace\"\n",
    "print(name.upper())\n",
    "print(name.lower())"
   ]
  },
  {
   "cell_type": "code",
   "execution_count": 35,
   "metadata": {},
   "outputs": [
    {
     "name": "stdout",
     "output_type": "stream",
     "text": [
      "Hello, Ada Lovelace!\n"
     ]
    }
   ],
   "source": [
    "first_name = \"ada\"\n",
    "last_name = \"lovelace\"\n",
    "full_name = f\"{first_name} {last_name}\"\n",
    "print(f\"Hello, {full_name.title()}!\")"
   ]
  },
  {
   "cell_type": "code",
   "execution_count": null,
   "metadata": {},
   "outputs": [],
   "source": [
    "\\n\n",
    "\\t\n",
    "\\b"
   ]
  },
  {
   "cell_type": "code",
   "execution_count": 36,
   "metadata": {},
   "outputs": [
    {
     "name": "stdout",
     "output_type": "stream",
     "text": [
      "Name:\t\t Sabeh Shaikh\n"
     ]
    }
   ],
   "source": [
    "print(\"Name:\\t\\t Sabeh Shaikh\")"
   ]
  },
  {
   "cell_type": "code",
   "execution_count": 42,
   "metadata": {},
   "outputs": [
    {
     "name": "stdout",
     "output_type": "stream",
     "text": [
      "Column1\tColumn2\tColumn3\n",
      "Data1\tData2\tData3\n"
     ]
    }
   ],
   "source": [
    "# \\t --> Inserts a horizontal tab character.\n",
    "print(\"Column1\\tColumn2\\tColumn3\")\n",
    "print(\"Data1\\tData2\\tData3\")\n"
   ]
  },
  {
   "cell_type": "code",
   "execution_count": 37,
   "metadata": {},
   "outputs": [
    {
     "name": "stdout",
     "output_type": "stream",
     "text": [
      "Name:\n",
      " Sabeh Shaikh\n"
     ]
    }
   ],
   "source": [
    "print(\"Name:\\n Sabeh Shaikh\")"
   ]
  },
  {
   "cell_type": "code",
   "execution_count": 43,
   "metadata": {},
   "outputs": [
    {
     "name": "stdout",
     "output_type": "stream",
     "text": [
      "This is line 1.\n",
      "This is line 2.\n"
     ]
    }
   ],
   "source": [
    "print(\"This is line 1.\\nThis is line 2.\")\n"
   ]
  },
  {
   "cell_type": "code",
   "execution_count": 38,
   "metadata": {},
   "outputs": [
    {
     "name": "stdout",
     "output_type": "stream",
     "text": [
      "Name Sabeh Shaikh\n"
     ]
    }
   ],
   "source": [
    "print(\"Name:\\b Sabeh Shaikh\") \n",
    "# backspace removed colon"
   ]
  },
  {
   "cell_type": "code",
   "execution_count": 39,
   "metadata": {},
   "outputs": [
    {
     "data": {
      "text/plain": [
       "'nostarch.com'"
      ]
     },
     "execution_count": 39,
     "metadata": {},
     "output_type": "execute_result"
    }
   ],
   "source": [
    "nostarch_url:str = 'https://nostarch.com'\n",
    "nostarch_url.removeprefix('https://')"
   ]
  },
  {
   "cell_type": "code",
   "execution_count": 44,
   "metadata": {},
   "outputs": [
    {
     "ename": "SyntaxError",
     "evalue": "invalid decimal literal (3555022359.py, line 1)",
     "output_type": "error",
     "traceback": [
      "\u001b[1;36m  Cell \u001b[1;32mIn[44], line 1\u001b[1;36m\u001b[0m\n\u001b[1;33m    1name = str = 'sabeh'\u001b[0m\n\u001b[1;37m    ^\u001b[0m\n\u001b[1;31mSyntaxError\u001b[0m\u001b[1;31m:\u001b[0m invalid decimal literal\n"
     ]
    }
   ],
   "source": [
    "# variable name cannot start with a number\n",
    "1name = str = 'sabeh'\n",
    "print(1name)"
   ]
  },
  {
   "cell_type": "code",
   "execution_count": 45,
   "metadata": {},
   "outputs": [
    {
     "name": "stdout",
     "output_type": "stream",
     "text": [
      "sabeh\n"
     ]
    }
   ],
   "source": [
    "name1 = str = 'sabeh'\n",
    "print(name1)"
   ]
  },
  {
   "cell_type": "code",
   "execution_count": 46,
   "metadata": {},
   "outputs": [
    {
     "name": "stdout",
     "output_type": "stream",
     "text": [
      "sabeh\n"
     ]
    }
   ],
   "source": [
    "_1name = str = 'sabeh'\n",
    "print(_1name)"
   ]
  },
  {
   "cell_type": "code",
   "execution_count": 48,
   "metadata": {},
   "outputs": [
    {
     "ename": "SyntaxError",
     "evalue": "invalid syntax (1380201795.py, line 2)",
     "output_type": "error",
     "traceback": [
      "\u001b[1;36m  Cell \u001b[1;32mIn[48], line 2\u001b[1;36m\u001b[0m\n\u001b[1;33m    piaic student name : str = 'sabeh shaikh'\u001b[0m\n\u001b[1;37m          ^\u001b[0m\n\u001b[1;31mSyntaxError\u001b[0m\u001b[1;31m:\u001b[0m invalid syntax\n"
     ]
    }
   ],
   "source": [
    "# this will also cause an error\n",
    "piaic student name : str = 'sabeh shaikh'"
   ]
  },
  {
   "cell_type": "code",
   "execution_count": 49,
   "metadata": {},
   "outputs": [
    {
     "data": {
      "text/plain": [
       "'sabeh shaikh'"
      ]
     },
     "metadata": {},
     "output_type": "display_data"
    }
   ],
   "source": [
    "piaic_student_name : str = 'sabeh shaikh'\n",
    "display(piaic_student_name)"
   ]
  }
 ],
 "metadata": {
  "kernelspec": {
   "display_name": "python12",
   "language": "python",
   "name": "python3"
  },
  "language_info": {
   "codemirror_mode": {
    "name": "ipython",
    "version": 3
   },
   "file_extension": ".py",
   "mimetype": "text/x-python",
   "name": "python",
   "nbconvert_exporter": "python",
   "pygments_lexer": "ipython3",
   "version": "3.12.0"
  }
 },
 "nbformat": 4,
 "nbformat_minor": 2
}
