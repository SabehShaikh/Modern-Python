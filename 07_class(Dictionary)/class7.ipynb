{
 "cells": [
  {
   "cell_type": "code",
   "execution_count": 6,
   "metadata": {},
   "outputs": [
    {
     "name": "stdout",
     "output_type": "stream",
     "text": [
      "Qasim\n"
     ]
    }
   ],
   "source": [
    "# List                  0         1        2\n",
    "data : list [str] = [\"Aslam\" , \"Qasim\" , \"MSDS\"]\n",
    "\n",
    "print(data[1])"
   ]
  },
  {
   "cell_type": "markdown",
   "metadata": {},
   "source": [
    "* set"
   ]
  },
  {
   "cell_type": "code",
   "execution_count": 13,
   "metadata": {},
   "outputs": [
    {
     "name": "stdout",
     "output_type": "stream",
     "text": [
      "{1, 2, 3, 7}\n"
     ]
    }
   ],
   "source": [
    "data : set = {7,1,2,1,1,1,1,3,2}\n",
    "print(data) # returns unique and in order"
   ]
  },
  {
   "cell_type": "code",
   "execution_count": 14,
   "metadata": {},
   "outputs": [
    {
     "data": {
      "text/plain": [
       "['add',\n",
       " 'clear',\n",
       " 'copy',\n",
       " 'difference',\n",
       " 'discard',\n",
       " 'intersection',\n",
       " 'isdisjoint',\n",
       " 'issubset',\n",
       " 'issuperset',\n",
       " 'pop',\n",
       " 'remove',\n",
       " 'union',\n",
       " 'update']"
      ]
     },
     "execution_count": 14,
     "metadata": {},
     "output_type": "execute_result"
    }
   ],
   "source": [
    "[i for i in dir(data) if \"_\" not in i]"
   ]
  },
  {
   "cell_type": "markdown",
   "metadata": {},
   "source": [
    "# Dictionary\n",
    "* key:value (items)\n",
    "     * key replacement of indexes\n",
    "     * value item\n",
    "\n",
    "* dict_variable[key]\n",
    "     * dict_variable[new_key] = new_value\n",
    "     * add new value\n",
    "     * update value"
   ]
  },
  {
   "cell_type": "code",
   "execution_count": 4,
   "metadata": {},
   "outputs": [
    {
     "name": "stdout",
     "output_type": "stream",
     "text": [
      "{'education': 'MSDS', 'fname': 'Aslam', 'name': 'Qasim'}\n"
     ]
    }
   ],
   "source": [
    "from typing import Dict\n",
    "import pprint\n",
    "# List      key,value                             \n",
    "data : Dict[str, str] = {\n",
    "    \"fname\":\"Aslam\" ,\n",
    "    \"name\": \"Qasim\" , \n",
    "    \"education\": \"MSDS\"}\n",
    "\n",
    "pprint.pprint(data)"
   ]
  },
  {
   "cell_type": "code",
   "execution_count": 11,
   "metadata": {},
   "outputs": [
    {
     "ename": "TypeError",
     "evalue": "unhashable type: 'list'",
     "output_type": "error",
     "traceback": [
      "\u001b[1;31m---------------------------------------------------------------------------\u001b[0m",
      "\u001b[1;31mTypeError\u001b[0m                                 Traceback (most recent call last)",
      "Cell \u001b[1;32mIn[11], line 8\u001b[0m\n\u001b[0;32m      5\u001b[0m Value \u001b[38;5;241m=\u001b[39m Union[\u001b[38;5;28mint\u001b[39m,\u001b[38;5;28mstr\u001b[39m,\u001b[38;5;28mlist\u001b[39m,\u001b[38;5;28mdict\u001b[39m,\u001b[38;5;28mtuple\u001b[39m,\u001b[38;5;28mset\u001b[39m]\n\u001b[0;32m      7\u001b[0m \u001b[38;5;66;03m# List      key,value                             \u001b[39;00m\n\u001b[1;32m----> 8\u001b[0m data : Dict[Key, Value] \u001b[38;5;241m=\u001b[39m {\n\u001b[0;32m      9\u001b[0m     \u001b[38;5;124m\"\u001b[39m\u001b[38;5;124mfname\u001b[39m\u001b[38;5;124m\"\u001b[39m:\u001b[38;5;124m\"\u001b[39m\u001b[38;5;124mAslam\u001b[39m\u001b[38;5;124m\"\u001b[39m ,\n\u001b[0;32m     10\u001b[0m     \u001b[38;5;124m\"\u001b[39m\u001b[38;5;124mname\u001b[39m\u001b[38;5;124m\"\u001b[39m: \u001b[38;5;124m\"\u001b[39m\u001b[38;5;124mQasim\u001b[39m\u001b[38;5;124m\"\u001b[39m , \n\u001b[0;32m     11\u001b[0m     \u001b[38;5;124m\"\u001b[39m\u001b[38;5;124meducation\u001b[39m\u001b[38;5;124m\"\u001b[39m: \u001b[38;5;124m\"\u001b[39m\u001b[38;5;124mMSDS\u001b[39m\u001b[38;5;124m\"\u001b[39m ,\n\u001b[0;32m     12\u001b[0m     \u001b[38;5;241m0\u001b[39m : \u001b[38;5;124m\"\u001b[39m\u001b[38;5;124mPakistan\u001b[39m\u001b[38;5;124m\"\u001b[39m ,\n\u001b[0;32m     13\u001b[0m     [\u001b[38;5;241m1\u001b[39m,\u001b[38;5;241m2\u001b[39m,\u001b[38;5;241m3\u001b[39m] : \u001b[38;5;124m\"\u001b[39m\u001b[38;5;124mKarachi\u001b[39m\u001b[38;5;124m\"\u001b[39m\n\u001b[0;32m     14\u001b[0m     \n\u001b[0;32m     15\u001b[0m     }\n\u001b[0;32m     17\u001b[0m pprint\u001b[38;5;241m.\u001b[39mpprint(data)\n\u001b[0;32m     18\u001b[0m \u001b[38;5;28mprint\u001b[39m(data[\u001b[38;5;124m\"\u001b[39m\u001b[38;5;124mname\u001b[39m\u001b[38;5;124m\"\u001b[39m])\n",
      "\u001b[1;31mTypeError\u001b[0m: unhashable type: 'list'"
     ]
    }
   ],
   "source": [
    "from typing import Dict, Union, Optional\n",
    "import pprint\n",
    "\n",
    "Key = Union[int,str] # create custom type\n",
    "Value = Union[int,str,list,dict,tuple,set]\n",
    "\n",
    "# List      key,value                             \n",
    "data : Dict[Key, Value] = {\n",
    "    \"fname\":\"Aslam\" ,\n",
    "    \"name\": \"Qasim\" , \n",
    "    \"education\": \"MSDS\" ,\n",
    "    0 : \"Pakistan\" ,\n",
    "    [1,2,3] : \"Karachi\"\n",
    "    \n",
    "    }\n",
    "\n",
    "pprint.pprint(data)\n",
    "print(data[\"name\"])\n",
    "print(data[\"fname\"])\n",
    "print(data[\"education\"])\n",
    "print(data[0]) # key"
   ]
  },
  {
   "cell_type": "code",
   "execution_count": 2,
   "metadata": {},
   "outputs": [
    {
     "name": "stdout",
     "output_type": "stream",
     "text": [
      "{0: 'Pakistan',\n",
      " 'education': 'MSDS',\n",
      " 'fname': 'Aslam',\n",
      " 'name': 'Qasim',\n",
      " (1, 2, 3): 'Karachi'}\n",
      "Qasim\n",
      "Aslam\n",
      "MSDS\n",
      "Pakistan\n",
      "Karachi\n"
     ]
    }
   ],
   "source": [
    "from typing import Dict, Union, Optional\n",
    "import pprint\n",
    "\n",
    "Key = Union[int,str, tuple] # create custom type\n",
    "Value = Union[int,str,list,dict,tuple,set]\n",
    "\n",
    "# List      key,value                             \n",
    "data : Dict[Key, Value] = {\n",
    "    \"fname\":\"Aslam\" ,\n",
    "    \"name\": \"Qasim\" , \n",
    "    \"education\": \"MSDS\" ,\n",
    "    0 : \"Pakistan\" ,\n",
    "    (1,2,3) : \"Karachi\"\n",
    "    }\n",
    "\n",
    "pprint.pprint(data)\n",
    "print(data[\"name\"])\n",
    "print(data[\"fname\"])\n",
    "print(data[\"education\"])\n",
    "print(data[0]) # key\n",
    "print(data[(1,2,3)]) # tuple can be hashable"
   ]
  },
  {
   "cell_type": "code",
   "execution_count": 23,
   "metadata": {},
   "outputs": [
    {
     "ename": "TypeError",
     "evalue": "unhashable type: 'set'",
     "output_type": "error",
     "traceback": [
      "\u001b[1;31m---------------------------------------------------------------------------\u001b[0m",
      "\u001b[1;31mTypeError\u001b[0m                                 Traceback (most recent call last)",
      "Cell \u001b[1;32mIn[23], line 9\u001b[0m\n\u001b[0;32m      6\u001b[0m Value \u001b[38;5;241m=\u001b[39m Union[\u001b[38;5;28mint\u001b[39m, \u001b[38;5;28mstr\u001b[39m, \u001b[38;5;28mlist\u001b[39m, \u001b[38;5;28mdict\u001b[39m, \u001b[38;5;28mtuple\u001b[39m, \u001b[38;5;28mset\u001b[39m]\n\u001b[0;32m      8\u001b[0m \u001b[38;5;66;03m# List                    0                1            2\u001b[39;00m\n\u001b[1;32m----> 9\u001b[0m data : Dict[Key,Value] \u001b[38;5;241m=\u001b[39m {\n\u001b[0;32m     10\u001b[0m                         \u001b[38;5;124m\"\u001b[39m\u001b[38;5;124mfname\u001b[39m\u001b[38;5;124m\"\u001b[39m:\u001b[38;5;124m\"\u001b[39m\u001b[38;5;124mMuhammad Aslam\u001b[39m\u001b[38;5;124m\"\u001b[39m,\n\u001b[0;32m     11\u001b[0m                         \u001b[38;5;124m\"\u001b[39m\u001b[38;5;124mname\u001b[39m\u001b[38;5;124m\"\u001b[39m:\u001b[38;5;124m\"\u001b[39m\u001b[38;5;124mMuhammad Qasim\u001b[39m\u001b[38;5;124m\"\u001b[39m,\n\u001b[0;32m     12\u001b[0m                         \u001b[38;5;124m\"\u001b[39m\u001b[38;5;124meducation\u001b[39m\u001b[38;5;124m\"\u001b[39m: \u001b[38;5;124m\"\u001b[39m\u001b[38;5;124mMSDS\u001b[39m\u001b[38;5;124m\"\u001b[39m,\n\u001b[0;32m     13\u001b[0m                         \u001b[38;5;124m\"\u001b[39m\u001b[38;5;124mabc\u001b[39m\u001b[38;5;124m\"\u001b[39m : [\u001b[38;5;241m1\u001b[39m,\u001b[38;5;241m2\u001b[39m,\u001b[38;5;241m3\u001b[39m],\n\u001b[0;32m     14\u001b[0m                         \u001b[38;5;124m'\u001b[39m\u001b[38;5;124mxyz\u001b[39m\u001b[38;5;124m'\u001b[39m: {\u001b[38;5;241m1\u001b[39m,\u001b[38;5;241m2\u001b[39m,\u001b[38;5;241m3\u001b[39m},\n\u001b[0;32m     15\u001b[0m                         \u001b[38;5;124m'\u001b[39m\u001b[38;5;124mefg\u001b[39m\u001b[38;5;124m'\u001b[39m : (\u001b[38;5;241m1\u001b[39m,\u001b[38;5;241m2\u001b[39m,\u001b[38;5;241m3\u001b[39m),\n\u001b[0;32m     16\u001b[0m                         \u001b[38;5;124m'\u001b[39m\u001b[38;5;124mcde\u001b[39m\u001b[38;5;124m'\u001b[39m : {\u001b[38;5;124m\"\u001b[39m\u001b[38;5;124ma\u001b[39m\u001b[38;5;124m\"\u001b[39m:\u001b[38;5;241m1\u001b[39m, \u001b[38;5;124m\"\u001b[39m\u001b[38;5;124mb\u001b[39m\u001b[38;5;124m\"\u001b[39m:\u001b[38;5;241m2\u001b[39m},\n\u001b[0;32m     17\u001b[0m                         \u001b[38;5;66;03m# [1,2,3] : \"Pakistan\", # error\u001b[39;00m\n\u001b[0;32m     18\u001b[0m                         {\u001b[38;5;241m1\u001b[39m,\u001b[38;5;241m2\u001b[39m,\u001b[38;5;241m3\u001b[39m} : \u001b[38;5;124m\"\u001b[39m\u001b[38;5;124mpakistan\u001b[39m\u001b[38;5;124m\"\u001b[39m, \u001b[38;5;66;03m#error\u001b[39;00m\n\u001b[0;32m     19\u001b[0m                         }\n\u001b[0;32m     21\u001b[0m pprint\u001b[38;5;241m.\u001b[39mpprint(data)\n\u001b[0;32m     22\u001b[0m \u001b[38;5;28mprint\u001b[39m(data[\u001b[38;5;124m\"\u001b[39m\u001b[38;5;124mname\u001b[39m\u001b[38;5;124m\"\u001b[39m])\n",
      "\u001b[1;31mTypeError\u001b[0m: unhashable type: 'set'"
     ]
    }
   ],
   "source": [
    "from typing import Dict, Union, Optional\n",
    "import pprint\n",
    "\n",
    "\n",
    "Key = Union[int,str] # create custom type\n",
    "Value = Union[int, str, list, dict, tuple, set]\n",
    "\n",
    "# List                    0                1            2\n",
    "data : Dict[Key,Value] = {\n",
    "                        \"fname\":\"Muhammad Aslam\",\n",
    "                        \"name\":\"Muhammad Qasim\",\n",
    "                        \"education\": \"MSDS\",\n",
    "                        \"abc\" : [1,2,3],\n",
    "                        'xyz': {1,2,3},\n",
    "                        'efg' : (1,2,3),\n",
    "                        'cde' : {\"a\":1, \"b\":2},\n",
    "                        # [1,2,3] : \"Pakistan\", # error\n",
    "                        {1,2,3} : \"pakistan\", #error\n",
    "                        }\n",
    "\n",
    "pprint.pprint(data)\n",
    "print(data[\"name\"])\n",
    "print(data['fname'])\n",
    "\n",
    "print(data['xyz'])\n",
    "print(data['education'])"
   ]
  },
  {
   "cell_type": "code",
   "execution_count": 15,
   "metadata": {},
   "outputs": [
    {
     "name": "stdout",
     "output_type": "stream",
     "text": [
      "{0: 'Pakistan', 'education': 'MSDS', 'fname': 'Aslam', 'name': 'Qasim'}\n",
      "Qasim\n",
      "Aslam\n",
      "MSDS\n",
      "Pakistan\n"
     ]
    }
   ],
   "source": [
    "from typing import Dict, Union, Optional\n",
    "import pprint\n",
    "\n",
    "Key = Union[int,str] # create custom type\n",
    "Value = Union[int,str,list,dict,tuple,set]\n",
    "\n",
    "# List      key,value                             \n",
    "data : Dict[Key, Value] = {\n",
    "    \"fname\":\"Aslam\" ,\n",
    "    \"name\": \"Qasim\" , \n",
    "    \"education\": \"MSDS\" ,\n",
    "    0 : \"Pakistan\" ,\n",
    "    \n",
    "    }\n",
    "\n",
    "pprint.pprint(data)\n",
    "print(data[\"name\"])\n",
    "print(data[\"fname\"])\n",
    "print(data[\"education\"])\n",
    "print(data[0]) # key"
   ]
  },
  {
   "cell_type": "code",
   "execution_count": 31,
   "metadata": {},
   "outputs": [
    {
     "name": "stdout",
     "output_type": "stream",
     "text": [
      "{'abc': [1, 2, 3],\n",
      " 'cde': {'a': 1, 'b': 2},\n",
      " 'education': 'MSDS',\n",
      " 'efg': (1, 2, 3),\n",
      " 'fname': 'Muhammad Aslam',\n",
      " 'name': 'Muhammad Qasim',\n",
      " 'xyz': {1, 2, 3}}\n",
      "Muhammad Qasim\n",
      "Muhammad Aslam\n",
      "{1, 2, 3}\n",
      "MSDS\n",
      "{'a': 1, 'b': 2}\n"
     ]
    }
   ],
   "source": [
    "from typing import Dict, Union, Optional\n",
    "import pprint\n",
    "\n",
    "\n",
    "Key = Union[int,str] # create custom type\n",
    "Value = Union[int, str, list, dict, tuple, set]\n",
    "\n",
    "# List                    0                1            2\n",
    "data : Dict[Key,Value] = {\n",
    "                        \"fname\":\"Muhammad Aslam\",\n",
    "                        \"name\":\"Muhammad Qasim\",\n",
    "                        \"education\": \"MSDS\",\n",
    "                        \"abc\" : [1,2,3],\n",
    "                        'xyz': {1,2,3},\n",
    "                        'efg' : (1,2,3),\n",
    "                        'cde' : {\"a\":1, \"b\":2},\n",
    "                        # [1,2,3] : \"Pakistan\", # error\n",
    "                        # {1,2,3} : \"pakistan\", #error\n",
    "                        }\n",
    "\n",
    "pprint.pprint(data)\n",
    "\n",
    "print(data[\"name\"])\n",
    "print(data['fname'])\n",
    "\n",
    "print(data['xyz'])\n",
    "print(data['education'])\n",
    "print(data['cde'])"
   ]
  },
  {
   "cell_type": "code",
   "execution_count": 30,
   "metadata": {},
   "outputs": [
    {
     "name": "stdout",
     "output_type": "stream",
     "text": [
      "{1, 2, 3}\n",
      "[1, 2, 3]\n"
     ]
    }
   ],
   "source": [
    "abc : set = {1,2,3,2,1,2,1}\n",
    "print(abc)\n",
    "\n",
    "xyz : list[int] = list(abc)\n",
    "print(xyz)"
   ]
  },
  {
   "cell_type": "code",
   "execution_count": 12,
   "metadata": {},
   "outputs": [
    {
     "name": "stdout",
     "output_type": "stream",
     "text": [
      "2\n",
      "[1, 2, 3, 'abc']\n",
      "[4, 5, 6]\n"
     ]
    },
    {
     "ename": "KeyError",
     "evalue": "'sets'",
     "output_type": "error",
     "traceback": [
      "\u001b[1;31m---------------------------------------------------------------------------\u001b[0m",
      "\u001b[1;31mKeyError\u001b[0m                                  Traceback (most recent call last)",
      "Cell \u001b[1;32mIn[12], line 25\u001b[0m\n\u001b[0;32m     23\u001b[0m \u001b[38;5;28mprint\u001b[39m(data[\u001b[38;5;124m\"\u001b[39m\u001b[38;5;124mabc\u001b[39m\u001b[38;5;124m\"\u001b[39m])\n\u001b[0;32m     24\u001b[0m \u001b[38;5;28mprint\u001b[39m(data[\u001b[38;5;124m\"\u001b[39m\u001b[38;5;124mitems\u001b[39m\u001b[38;5;124m\"\u001b[39m][\u001b[38;5;241m1\u001b[39m])\n\u001b[1;32m---> 25\u001b[0m \u001b[38;5;28mprint\u001b[39m(\u001b[43mdata\u001b[49m\u001b[43m[\u001b[49m\u001b[38;5;124;43m\"\u001b[39;49m\u001b[38;5;124;43mcde\u001b[39;49m\u001b[38;5;124;43m\"\u001b[39;49m\u001b[43m]\u001b[49m\u001b[43m[\u001b[49m\u001b[38;5;124;43m\"\u001b[39;49m\u001b[38;5;124;43msets\u001b[39;49m\u001b[38;5;124;43m\"\u001b[39;49m\u001b[43m]\u001b[49m)\n",
      "\u001b[1;31mKeyError\u001b[0m: 'sets'"
     ]
    }
   ],
   "source": [
    "from typing import Dict, Union, Optional\n",
    "import pprint\n",
    "\n",
    "\n",
    "Key = Union[int,str] # create custom type\n",
    "Value = Union[int, str, list, dict, tuple, set]\n",
    "\n",
    "# List                    0                1            2\n",
    "data : Dict[Key,Value] = {\n",
    "                        \"fname\":\"Muhammad Aslam\",\n",
    "                        \"name\":\"Muhammad Qasim\",\n",
    "                        \"education\": \"MSDS\",\n",
    "                        \"abc\" : [1,2,3, \"abc\"],\n",
    "                        'xyz': {1,2,3},\n",
    "                        'efg' : (1,2,3),\n",
    "                        'cde' : {\"a\":1, \"b\":2},\n",
    "                        'items': [[1, 2, 3], [4, 5, 6], {7, 8, 9}],\n",
    "                        # [1,2,3] : \"Pakistan\", # error\n",
    "                        # {1,2,3} : \"pakistan\", #error\n",
    "                        }\n",
    "\n",
    "print(data[\"cde\"]['b'])\n",
    "print(data[\"abc\"])\n",
    "print(data[\"items\"])"
   ]
  },
  {
   "cell_type": "code",
   "execution_count": 36,
   "metadata": {},
   "outputs": [
    {
     "name": "stdout",
     "output_type": "stream",
     "text": [
      "{'name': 'Sabeh Shaikh', 'fname': 'Arshad Shaikh', 'education': 'BSCS'}\n"
     ]
    }
   ],
   "source": [
    "from typing import Dict, Union, Optional\n",
    "import pprint\n",
    "\n",
    "\n",
    "Key = Union[int,str] # create custom type\n",
    "Value = Union[int, str, list, dict, tuple, set]\n",
    "\n",
    "data : dict[Key,Value] = {}\n",
    "\n",
    "data['name'] = \"Sabeh Shaikh\"\n",
    "data['fname'] = \"Arshad Shaikh\"\n",
    "data['education'] = \"BSCS\"\n",
    "\n",
    "print(data)"
   ]
  },
  {
   "cell_type": "code",
   "execution_count": 63,
   "metadata": {},
   "outputs": [
    {
     "name": "stdout",
     "output_type": "stream",
     "text": [
      "{'name': 'Sabeh Shaikh', 'fname': 'Arshad Shaikh', 'education': 'BSCS'}\n"
     ]
    }
   ],
   "source": [
    "from typing import Dict, Union, Optional\n",
    "import pprint\n",
    "\n",
    "\n",
    "Key = Union[int,str] # create custom type\n",
    "Value = Union[int, str, list, dict, tuple, set]\n",
    "\n",
    "data : dict[Key,Value] = {}\n",
    "\n",
    "data['name'] = \"Sabeh Shaikh\" # add new key and values\n",
    "data['fname'] = \"Arshad Shaikh\"\n",
    "data['education'] = \"BSCS\"\n",
    "\n",
    "print(data)"
   ]
  },
  {
   "cell_type": "code",
   "execution_count": 38,
   "metadata": {},
   "outputs": [
    {
     "name": "stdout",
     "output_type": "stream",
     "text": [
      "{'fname': 'Muhammad Aslam', 'name': 'Muhammad Qasim', 'education': 'MSDS'}\n",
      "{'fname': 'Muhammad Aslam', 'name': 'M.Qasim', 'education': 'MSDS'}\n"
     ]
    }
   ],
   "source": [
    "from typing import Dict, Union, Optional\n",
    "import pprint\n",
    "\n",
    "\n",
    "Key = Union[int,str] # create custom type\n",
    "Value = Union[int, str, list, dict, tuple, set]\n",
    "\n",
    "data : dict[Key,Value] = {\n",
    "    \"fname\":\"Muhammad Aslam\",\n",
    "\"name\":\"Muhammad Qasim\",\n",
    "\"education\": \"MSDS\",\n",
    "}\n",
    "\n",
    "print(data)\n",
    "\n",
    "data['name'] = \"M.Qasim\" # update value\n",
    "print(data)\n",
    "\n"
   ]
  },
  {
   "cell_type": "code",
   "execution_count": 40,
   "metadata": {},
   "outputs": [
    {
     "ename": "KeyError",
     "evalue": "'pakistan'",
     "output_type": "error",
     "traceback": [
      "\u001b[1;31m---------------------------------------------------------------------------\u001b[0m",
      "\u001b[1;31mKeyError\u001b[0m                                  Traceback (most recent call last)",
      "Cell \u001b[1;32mIn[40], line 13\u001b[0m\n\u001b[0;32m      4\u001b[0m Value \u001b[38;5;241m=\u001b[39m Union[\u001b[38;5;28mint\u001b[39m, \u001b[38;5;28mstr\u001b[39m, \u001b[38;5;28mlist\u001b[39m, \u001b[38;5;28mdict\u001b[39m, \u001b[38;5;28mtuple\u001b[39m, \u001b[38;5;28mset\u001b[39m]\n\u001b[0;32m      6\u001b[0m data : \u001b[38;5;28mdict\u001b[39m[Key,Value] \u001b[38;5;241m=\u001b[39m {\n\u001b[0;32m      7\u001b[0m     \u001b[38;5;124m\"\u001b[39m\u001b[38;5;124mfname\u001b[39m\u001b[38;5;124m\"\u001b[39m:\u001b[38;5;124m\"\u001b[39m\u001b[38;5;124mMuhammad Aslam\u001b[39m\u001b[38;5;124m\"\u001b[39m,\n\u001b[0;32m      8\u001b[0m \u001b[38;5;124m\"\u001b[39m\u001b[38;5;124mname\u001b[39m\u001b[38;5;124m\"\u001b[39m:\u001b[38;5;124m\"\u001b[39m\u001b[38;5;124mMuhammad Qasim\u001b[39m\u001b[38;5;124m\"\u001b[39m,\n\u001b[0;32m      9\u001b[0m \u001b[38;5;124m\"\u001b[39m\u001b[38;5;124meducation\u001b[39m\u001b[38;5;124m\"\u001b[39m: \u001b[38;5;124m\"\u001b[39m\u001b[38;5;124mMSDS\u001b[39m\u001b[38;5;124m\"\u001b[39m,\n\u001b[0;32m     10\u001b[0m }\n\u001b[1;32m---> 13\u001b[0m \u001b[38;5;28mprint\u001b[39m(\u001b[43mdata\u001b[49m\u001b[43m[\u001b[49m\u001b[38;5;124;43m'\u001b[39;49m\u001b[38;5;124;43mpakistan\u001b[39;49m\u001b[38;5;124;43m'\u001b[39;49m\u001b[43m]\u001b[49m)\n\u001b[0;32m     14\u001b[0m [i \u001b[38;5;28;01mfor\u001b[39;00m i \u001b[38;5;129;01min\u001b[39;00m \u001b[38;5;28mdir\u001b[39m(data) \u001b[38;5;28;01mif\u001b[39;00m \u001b[38;5;124m\"\u001b[39m\u001b[38;5;124m_\u001b[39m\u001b[38;5;124m\"\u001b[39m \u001b[38;5;129;01mnot\u001b[39;00m \u001b[38;5;129;01min\u001b[39;00m i]\n",
      "\u001b[1;31mKeyError\u001b[0m: 'pakistan'"
     ]
    }
   ],
   "source": [
    "from typing import Dict, Union, Optional\n",
    "\n",
    "Key = Union[int,str] # create custom type\n",
    "Value = Union[int, str, list, dict, tuple, set]\n",
    "\n",
    "data : dict[Key,Value] = {\n",
    "    \"fname\":\"Muhammad Aslam\",\n",
    "\"name\":\"Muhammad Qasim\",\n",
    "\"education\": \"MSDS\",\n",
    "}\n",
    "\n",
    "\n",
    "print(data['pakistan']) # KeyError:\n",
    "[i for i in dir(data) if \"_\" not in i]\n",
    "\n"
   ]
  },
  {
   "cell_type": "markdown",
   "metadata": {},
   "source": [
    ".get() method"
   ]
  },
  {
   "cell_type": "code",
   "execution_count": 13,
   "metadata": {},
   "outputs": [
    {
     "name": "stdout",
     "output_type": "stream",
     "text": [
      "Not-Available\n",
      "Muhammad Qasim\n"
     ]
    },
    {
     "data": {
      "text/plain": [
       "['clear',\n",
       " 'copy',\n",
       " 'fromkeys',\n",
       " 'get',\n",
       " 'items',\n",
       " 'keys',\n",
       " 'pop',\n",
       " 'popitem',\n",
       " 'setdefault',\n",
       " 'update',\n",
       " 'values']"
      ]
     },
     "execution_count": 13,
     "metadata": {},
     "output_type": "execute_result"
    }
   ],
   "source": [
    "from typing import Dict, Union, Optional\n",
    "\n",
    "Key = Union[int,str] # create custom type\n",
    "Value = Union[int, str, list, dict, tuple, set]\n",
    "\n",
    "data : dict[Key,Value] = {\n",
    "    \"fname\":\"Muhammad Aslam\",\n",
    "\"name\":\"Muhammad Qasim\",\n",
    "\"education\": \"MSDS\",\n",
    "}\n",
    "\n",
    "\n",
    "print(data.get('pakistan' , \"Not-Available\"))\n",
    "print(data.get('name'))\n",
    "[i for i in dir(data) if \"_\" not in i]\n",
    "\n"
   ]
  },
  {
   "cell_type": "code",
   "execution_count": 47,
   "metadata": {},
   "outputs": [
    {
     "name": "stdout",
     "output_type": "stream",
     "text": [
      "fname\n",
      "name\n",
      "education\n"
     ]
    }
   ],
   "source": [
    "from typing import Dict, Union, Optional\n",
    "\n",
    "Key = Union[int,str] # create custom type\n",
    "Value = Union[int, str, list, dict, tuple, set]\n",
    "\n",
    "data : dict[Key,Value] = {\n",
    "    \"fname\":\"Muhammad Aslam\",\n",
    "\"name\":\"Muhammad Qasim\",\n",
    "\"education\": \"MSDS\",\n",
    "}\n",
    "\n",
    "\n",
    "for d in data:\n",
    "    print(d) # keys\n",
    "# [i for i in dir(data) if \"_\" not in i]\n",
    "\n"
   ]
  },
  {
   "cell_type": "markdown",
   "metadata": {},
   "source": [
    ".keys()"
   ]
  },
  {
   "cell_type": "code",
   "execution_count": 15,
   "metadata": {},
   "outputs": [
    {
     "name": "stdout",
     "output_type": "stream",
     "text": [
      "dict_keys(['fname', 'name', 'education'])\n",
      "dict_values(['Muhammad Aslam', 'Muhammad Qasim', 'MSDS'])\n",
      "dict_items([('fname', 'Muhammad Aslam'), ('name', 'Muhammad Qasim'), ('education', 'MSDS')])\n",
      "fname Muhammad Aslam\n",
      "name Muhammad Qasim\n",
      "education MSDS\n"
     ]
    }
   ],
   "source": [
    "from typing import Dict, Union, Optional\n",
    "\n",
    "Key = Union[int,str] # create custom type\n",
    "Value = Union[int, str, list, dict, tuple, set]\n",
    "\n",
    "data : dict[Key,Value] = {\n",
    "    \"fname\":\"Muhammad Aslam\",\n",
    "\"name\":\"Muhammad Qasim\",\n",
    "\"education\": \"MSDS\",\n",
    "}\n",
    "\n",
    "print(data.keys()) # keys\n",
    "print(data.values()) # values\n",
    "print(data.items())\n",
    "\n",
    "for k in data.keys():\n",
    "    print(k , data[k])\n",
    " \n",
    "# [i for i in dir(data) if \"_\" not in i]\n",
    "\n"
   ]
  },
  {
   "cell_type": "code",
   "execution_count": 53,
   "metadata": {},
   "outputs": [
    {
     "name": "stdout",
     "output_type": "stream",
     "text": [
      "dict_keys(['fname', 'name', 'education'])\n",
      "dict_values(['Muhammad Aslam', 'Muhammad Qasim', 'MSDS'])\n",
      "dict_items([('fname', 'Muhammad Aslam'), ('name', 'Muhammad Qasim'), ('education', 'MSDS')])\n",
      "Muhammad Aslam\n",
      "Muhammad Qasim\n",
      "MSDS\n"
     ]
    }
   ],
   "source": [
    "from typing import Dict, Union, Optional\n",
    "\n",
    "Key = Union[int,str] # create custom type\n",
    "Value = Union[int, str, list, dict, tuple, set]\n",
    "\n",
    "data : dict[Key,Value] = {\n",
    "    \"fname\":\"Muhammad Aslam\",\n",
    "\"name\":\"Muhammad Qasim\",\n",
    "\"education\": \"MSDS\",\n",
    "}\n",
    "\n",
    "print(data.keys()) # keys\n",
    "print(data.values()) # values\n",
    "print(data.items())\n",
    "\n",
    "for v in data.values():\n",
    "    print(v)\n",
    "\n",
    "\n",
    "# [i for i in dir(data) if \"_\" not in i]\n",
    "\n"
   ]
  },
  {
   "cell_type": "code",
   "execution_count": 55,
   "metadata": {},
   "outputs": [
    {
     "name": "stdout",
     "output_type": "stream",
     "text": [
      "fname Muhammad Aslam\n",
      "name Muhammad Qasim\n",
      "education MSDS\n"
     ]
    }
   ],
   "source": [
    "from typing import Dict, Union, Optional\n",
    "\n",
    "Key = Union[int,str] # create custom type\n",
    "Value = Union[int, str, list, dict, tuple, set]\n",
    "\n",
    "data : dict[Key,Value] = {\n",
    "    \"fname\":\"Muhammad Aslam\",\n",
    "\"name\":\"Muhammad Qasim\",\n",
    "\"education\": \"MSDS\",\n",
    "}\n",
    "\n",
    "# print(data.keys()) # keys\n",
    "# print(data.values()) # values\n",
    "# print(data.items())\n",
    "\n",
    "for  k,v in data.items():\n",
    "    print(k,v)\n",
    "\n",
    "\n",
    "# [i for i in dir(data) if \"_\" not in i]\n",
    "\n"
   ]
  },
  {
   "cell_type": "code",
   "execution_count": 58,
   "metadata": {},
   "outputs": [
    {
     "data": {
      "text/plain": [
       "{'Muhammad Aslam': 'fname', 'Muhammad Qasim': 'name', 'MSDS': 'education'}"
      ]
     },
     "execution_count": 58,
     "metadata": {},
     "output_type": "execute_result"
    }
   ],
   "source": [
    "from typing import Dict, Union, Optional\n",
    "\n",
    "Key = Union[int,str] # create custom type\n",
    "Value = Union[int, str, list, dict, tuple, set]\n",
    "\n",
    "data : dict[Key,Value] = {\n",
    "    \"fname\":\"Muhammad Aslam\",\n",
    "\"name\":\"Muhammad Qasim\",\n",
    "\"education\": \"MSDS\",\n",
    "}\n",
    "\n",
    "# print(data.keys()) # keys\n",
    "# print(data.values()) # values\n",
    "# print(data.items())\n",
    "\n",
    "{v:k for  k,v in data.items()} # comprehensive\n",
    "    \n",
    "\n",
    "\n",
    "# [i for i in dir(data) if \"_\" not in i]\n",
    "\n"
   ]
  },
  {
   "cell_type": "code",
   "execution_count": 16,
   "metadata": {},
   "outputs": [
    {
     "data": {
      "text/plain": [
       "{'Muhammad Aslam': 'fname', 'Muhammad Qasim': 'name', 'MSDS': 'education'}"
      ]
     },
     "execution_count": 16,
     "metadata": {},
     "output_type": "execute_result"
    }
   ],
   "source": [
    "{v:k for  k,v in data.items()} # comprehensive"
   ]
  },
  {
   "cell_type": "markdown",
   "metadata": {},
   "source": [
    "*  shuffle"
   ]
  },
  {
   "cell_type": "code",
   "execution_count": 59,
   "metadata": {},
   "outputs": [
    {
     "name": "stdout",
     "output_type": "stream",
     "text": [
      "9 7\n"
     ]
    }
   ],
   "source": [
    "a : int = 7\n",
    "b : int = 9\n",
    "\n",
    "a,b = b,a # shuffle\n",
    "print(a,b)"
   ]
  },
  {
   "cell_type": "markdown",
   "metadata": {},
   "source": [
    ".fromkeys()"
   ]
  },
  {
   "cell_type": "code",
   "execution_count": 62,
   "metadata": {},
   "outputs": [
    {
     "name": "stdout",
     "output_type": "stream",
     "text": [
      "{}\n",
      "{'id': None, 'name': None, 'fname': None, 'course': None}\n"
     ]
    }
   ],
   "source": [
    "keys : list[str] = ['id' , 'name' , 'fname' , 'course']\n",
    "\n",
    "data : dict[Key,Value] = {}\n",
    "print(data)\n",
    "\n",
    "data = data.fromkeys(keys) #inline\n",
    "print(data)\n",
    "\n"
   ]
  }
 ],
 "metadata": {
  "kernelspec": {
   "display_name": "python12",
   "language": "python",
   "name": "python3"
  },
  "language_info": {
   "codemirror_mode": {
    "name": "ipython",
    "version": 3
   },
   "file_extension": ".py",
   "mimetype": "text/x-python",
   "name": "python",
   "nbconvert_exporter": "python",
   "pygments_lexer": "ipython3",
   "version": "3.12.0"
  }
 },
 "nbformat": 4,
 "nbformat_minor": 2
}
