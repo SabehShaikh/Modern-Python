{
 "cells": [
  {
   "cell_type": "markdown",
   "id": "54cfb8f1-41cd-424a-87d7-f01999e3416b",
   "metadata": {},
   "source": [
    "# List\n",
    "* iteration operation with loop\n",
    "* apply any operation on element"
   ]
  },
  {
   "cell_type": "code",
   "execution_count": 3,
   "id": "4eec8532-89db-4f12-8b3b-7bad5bf40db2",
   "metadata": {},
   "outputs": [
    {
     "name": "stdout",
     "output_type": "stream",
     "text": [
      "['Sir Zia', 'Sir Qasim', 'Dr Noman']\n"
     ]
    }
   ],
   "source": [
    "names : list[str] = ['Sir Zia', 'Sir Qasim' , 'Dr Noman'] \n",
    "print(names)"
   ]
  },
  {
   "cell_type": "code",
   "execution_count": 5,
   "id": "739aa016-00c5-4856-8a83-07322bee075b",
   "metadata": {},
   "outputs": [
    {
     "name": "stdout",
     "output_type": "stream",
     "text": [
      "Sir Zia\n",
      "Sir Qasim\n",
      "Dr Noman\n"
     ]
    }
   ],
   "source": [
    "names : list[str] = ['Sir Zia', 'Sir Qasim' , 'Dr Noman'] \n",
    "\n",
    "for name in names:\n",
    "    print(name)\n",
    "\n",
    "# Sir Zia\n",
    "# Sir Qasim\n",
    "# Dr Noman"
   ]
  },
  {
   "cell_type": "code",
   "execution_count": null,
   "id": "aa2d8bb7-965a-47a5-b20e-d40a2fc3aa9e",
   "metadata": {},
   "outputs": [],
   "source": [
    "names : list[str] = ['Sir Zia', 'Sir Qasim' , 'Dr Noman']\n",
    "\n",
    "i: int = 0\n"
   ]
  }
 ],
 "metadata": {
  "kernelspec": {
   "display_name": "Python 3 (ipykernel)",
   "language": "python",
   "name": "python3"
  },
  "language_info": {
   "codemirror_mode": {
    "name": "ipython",
    "version": 3
   },
   "file_extension": ".py",
   "mimetype": "text/x-python",
   "name": "python",
   "nbconvert_exporter": "python",
   "pygments_lexer": "ipython3",
   "version": "3.12.0"
  }
 },
 "nbformat": 4,
 "nbformat_minor": 5
}
