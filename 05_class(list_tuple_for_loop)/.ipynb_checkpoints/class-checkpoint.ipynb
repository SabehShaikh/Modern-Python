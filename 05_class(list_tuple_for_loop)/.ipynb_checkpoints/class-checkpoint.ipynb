{
 "cells": [
  {
   "cell_type": "markdown",
   "id": "54cfb8f1-41cd-424a-87d7-f01999e3416b",
   "metadata": {},
   "source": [
    "# List\n",
    "* iteration operation with loop\n",
    "* apply any operation on element"
   ]
  },
  {
   "cell_type": "code",
   "execution_count": 3,
   "id": "4eec8532-89db-4f12-8b3b-7bad5bf40db2",
   "metadata": {},
   "outputs": [
    {
     "name": "stdout",
     "output_type": "stream",
     "text": [
      "['Sir Zia', 'Sir Qasim', 'Dr Noman']\n"
     ]
    }
   ],
   "source": [
    "names : list[str] = ['Sir Zia', 'Sir Qasim' , 'Dr Noman'] \n",
    "print(names)"
   ]
  },
  {
   "cell_type": "code",
   "execution_count": 5,
   "id": "739aa016-00c5-4856-8a83-07322bee075b",
   "metadata": {},
   "outputs": [
    {
     "name": "stdout",
     "output_type": "stream",
     "text": [
      "Sir Zia\n",
      "Sir Qasim\n",
      "Dr Noman\n"
     ]
    }
   ],
   "source": [
    "names : list[str] = ['Sir Zia', 'Sir Qasim' , 'Dr Noman'] \n",
    "\n",
    "for name in names:\n",
    "    print(name)\n",
    "\n",
    "# Sir Zia\n",
    "# Sir Qasim\n",
    "# Dr Noman"
   ]
  },
  {
   "cell_type": "markdown",
   "id": "541ae779",
   "metadata": {},
   "source": [
    "```\n",
    "names : list[str] = ['Sir Zia', 'Sir Qasim' , 'Dr Noman']\n",
    "\n",
    "for(i=0; i<names.length; i++) {\n",
    "    names[i]\n",
    "}\n",
    "```"
   ]
  },
  {
   "cell_type": "code",
   "execution_count": 2,
   "id": "aa2d8bb7-965a-47a5-b20e-d40a2fc3aa9e",
   "metadata": {},
   "outputs": [
    {
     "name": "stdout",
     "output_type": "stream",
     "text": [
      "Sir Zia\n",
      "Sir Qasim\n",
      "Dr Noman\n"
     ]
    }
   ],
   "source": [
    "names : list[str] = ['Sir Zia', 'Sir Qasim' , 'Dr Noman']\n",
    "\n",
    "i: int = 0\n",
    "while i<len(names): # names length = 3\n",
    "    print(names[i])\n",
    "    i += 1 "
   ]
  },
  {
   "cell_type": "code",
   "execution_count": 4,
   "id": "ef4c825b",
   "metadata": {},
   "outputs": [
    {
     "name": "stdout",
     "output_type": "stream",
     "text": [
      "Welcome Dear Teacher Sir Zia\n",
      "Welcome Dear Teacher Sir Qasim\n",
      "Welcome Dear Teacher Dr Noman\n"
     ]
    }
   ],
   "source": [
    "names : list[str] = ['Sir Zia', 'Sir Qasim' , 'Dr Noman'] \n",
    "\n",
    "for name in names:\n",
    "    print(f'Welcome Dear Teacher {name.title()}')"
   ]
  },
  {
   "cell_type": "code",
   "execution_count": 6,
   "id": "d1c31cfd",
   "metadata": {},
   "outputs": [
    {
     "name": "stdout",
     "output_type": "stream",
     "text": [
      "Welcome Dear Tacher Sir Zia\n",
      "PIAIC Gen AI Team\n",
      "\n",
      "Welcome Dear Tacher Muhammad Qasim\n",
      "PIAIC Gen AI Team\n",
      "\n",
      "Welcome Dear Tacher Dr Noman\n",
      "PIAIC Gen AI Team\n",
      "\n"
     ]
    }
   ],
   "source": [
    "names:list[str] = ['Sir Zia', \"Muhammad Qasim\", \"DR Noman\"]\n",
    "\n",
    "for name in names:\n",
    "    print(f'Welcome Dear Tacher {name.title()}')\n",
    "    print(\"PIAIC Gen AI Team\\n\")"
   ]
  },
  {
   "cell_type": "code",
   "execution_count": 9,
   "id": "9a9e95a2",
   "metadata": {},
   "outputs": [
    {
     "name": "stdout",
     "output_type": "stream",
     "text": [
      "Welcome Dear Tacher Sir Zia\n",
      "PIAIC Gen AI Team\n",
      "\n",
      "Welcome Dear Tacher Muhammad Qasim\n",
      "PIAIC Gen AI Team\n",
      "\n",
      "Welcome Dear Tacher Dr Noman\n",
      "PIAIC Gen AI Team\n",
      "\n",
      "Only Print ONE Time, not in iteration.\n"
     ]
    }
   ],
   "source": [
    "names:list[str] = ['Sir Zia', \"Muhammad Qasim\", \"DR Noman\"]\n",
    "\n",
    "for name in names:\n",
    "    print(f'Welcome Dear Tacher {name.title()}')\n",
    "\n",
    "    print(\"PIAIC Gen AI Team\\n\")\n",
    "\n",
    "print('Only Print ONE Time, not in iteration.')  "
   ]
  },
  {
   "cell_type": "code",
   "execution_count": 14,
   "id": "e841e9d8",
   "metadata": {},
   "outputs": [
    {
     "name": "stdout",
     "output_type": "stream",
     "text": [
      "Welcome Dear Tacher Sir Zia\n",
      "PIAIC Gen AI Team\n",
      "\n",
      "Welcome Dear Tacher Muhammad Qasim\n",
      "PIAIC Gen AI Team\n",
      "\n",
      "Only Print ONE Time, not in iteration.\n"
     ]
    }
   ],
   "source": [
    "names:list[str] = ['Sir Zia', \"Muhammad Qasim\", \"DR Noman\"]\n",
    "\n",
    "for name in names[:2]: # will now print till 2-index = 2-1 = 1\n",
    "    print(f'Welcome Dear Tacher {name.title()}')\n",
    "\n",
    "    print(\"PIAIC Gen AI Team\\n\")\n",
    "\n",
    "print('Only Print ONE Time, not in iteration.')  "
   ]
  },
  {
   "cell_type": "code",
   "execution_count": 20,
   "id": "2afef8cd",
   "metadata": {},
   "outputs": [
    {
     "name": "stdout",
     "output_type": "stream",
     "text": [
      "('sabeh', '123')\n",
      "('sir zia', '345')\n",
      "('ikhlas', '789')\n"
     ]
    }
   ],
   "source": [
    "data_base : list[tuple[str,str]] = [(\"sabeh\" , \"123\"), \n",
    "                                    (\"sir zia\" , \"345\"),\n",
    "                                    (\"ikhlas\" , \"789\")\n",
    "                                    ]\n",
    "\n",
    "for row in data_base:\n",
    "    print(row)"
   ]
  },
  {
   "cell_type": "code",
   "execution_count": 1,
   "id": "76327a13",
   "metadata": {},
   "outputs": [
    {
     "name": "stdout",
     "output_type": "stream",
     "text": [
      "sabeh 123\n",
      "sir zia 345\n",
      "ikhlas 789\n"
     ]
    }
   ],
   "source": [
    "data_base : list[tuple[str,str]] = [(\"sabeh\" , \"123\"), \n",
    "                                    (\"sir zia\" , \"345\"),\n",
    "                                    (\"ikhlas\" , \"789\")\n",
    "                                    ]\n",
    "\n",
    "for row in data_base:\n",
    "    user , password =  row\n",
    "    print(user , password)"
   ]
  },
  {
   "cell_type": "code",
   "execution_count": 2,
   "id": "c5042ee3",
   "metadata": {},
   "outputs": [
    {
     "name": "stdout",
     "output_type": "stream",
     "text": [
      "Enter user name Pakistan\n"
     ]
    },
    {
     "name": "stdout",
     "output_type": "stream",
     "text": [
      "Pakistan\n"
     ]
    }
   ],
   "source": [
    "\n",
    "input_user : str = input(\"Enter user name\")\n",
    "print(input_user)"
   ]
  },
  {
   "cell_type": "code",
   "execution_count": 5,
   "id": "6ef32a77",
   "metadata": {},
   "outputs": [
    {
     "name": "stdin",
     "output_type": "stream",
     "text": [
      "Enter user name ronaldo\n",
      "Enter user password 123\n"
     ]
    },
    {
     "name": "stdout",
     "output_type": "stream",
     "text": [
      "Invalid user name\n"
     ]
    }
   ],
   "source": [
    "data_base : list[tuple[str,str]] = [(\"sabeh\" , \"123\"), \n",
    "                                    (\"sir zia\" , \"345\"),\n",
    "                                    (\"ikhlas\" , \"789\")\n",
    "                                    ]\n",
    "\n",
    "input_user : str = input(\"Enter user name\")\n",
    "input_password : str = input(\"Enter user password\")\n",
    "\n",
    "for row in data_base:\n",
    "    user , password =  row\n",
    "    if input_user == user and input_password == password:\n",
    "        print(\"Valid User\")\n",
    "        break\n",
    "\n",
    "else:\n",
    "    print(\"Invalid user name\")"
   ]
  },
  {
   "cell_type": "code",
   "execution_count": null,
   "id": "3b5ba3db-0628-4ceb-9470-49738ef5355c",
   "metadata": {},
   "outputs": [],
   "source": []
  }
 ],
 "metadata": {
  "kernelspec": {
   "display_name": "Python 3 (ipykernel)",
   "language": "python",
   "name": "python3"
  },
  "language_info": {
   "codemirror_mode": {
    "name": "ipython",
    "version": 3
   },
   "file_extension": ".py",
   "mimetype": "text/x-python",
   "name": "python",
   "nbconvert_exporter": "python",
   "pygments_lexer": "ipython3",
   "version": "3.12.0"
  }
 },
 "nbformat": 4,
 "nbformat_minor": 5
}
