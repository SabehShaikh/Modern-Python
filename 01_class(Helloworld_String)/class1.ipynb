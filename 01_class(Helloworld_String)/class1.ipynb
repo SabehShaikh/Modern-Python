{
 "cells": [
  {
   "cell_type": "markdown",
   "metadata": {},
   "source": [
    "# I'm so happy to start python class with static type"
   ]
  },
  {
   "cell_type": "code",
   "execution_count": 3,
   "metadata": {},
   "outputs": [
    {
     "name": "stdout",
     "output_type": "stream",
     "text": [
      "Hello World\n",
      "Hello Worlds\n",
      "Hello Worldss\n",
      "Hello Worldsss\n",
      "Hello Worldssss\n"
     ]
    }
   ],
   "source": [
    "print(\"Hello World\")\n",
    "print(\"Hello Worlds\")\n",
    "print(\"Hello Worldss\")\n",
    "print(\"Hello Worldsss\")\n",
    "print(\"Hello Worldssss\")"
   ]
  },
  {
   "cell_type": "code",
   "execution_count": 2,
   "metadata": {},
   "outputs": [
    {
     "name": "stdout",
     "output_type": "stream",
     "text": [
      "Pakistan\n",
      "Pakistan1\n",
      "Pakistan2\n",
      "Pakistan3\n",
      "Pakistan4\n"
     ]
    }
   ],
   "source": [
    "print(\"Pakistan\")\n",
    "print(\"Pakistan1\")\n",
    "print(\"Pakistan2\")\n",
    "print(\"Pakistan3\")\n",
    "print(\"Pakistan4\")"
   ]
  }
 ],
 "metadata": {
  "kernelspec": {
   "display_name": "base",
   "language": "python",
   "name": "python3"
  },
  "language_info": {
   "codemirror_mode": {
    "name": "ipython",
    "version": 3
   },
   "file_extension": ".py",
   "mimetype": "text/x-python",
   "name": "python",
   "nbconvert_exporter": "python",
   "pygments_lexer": "ipython3",
   "version": "3.12.0"
  }
 },
 "nbformat": 4,
 "nbformat_minor": 2
}
